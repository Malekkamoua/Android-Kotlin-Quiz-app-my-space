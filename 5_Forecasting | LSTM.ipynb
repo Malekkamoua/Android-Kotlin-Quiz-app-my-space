{
  "nbformat": 4,
  "nbformat_minor": 0,
  "metadata": {
    "colab": {
      "name": "5_Forecasting | LSTM.ipynb",
      "provenance": [],
      "collapsed_sections": [],
      "authorship_tag": "ABX9TyMdJurMSMUuQqk13djnFiHD",
      "include_colab_link": true
    },
    "kernelspec": {
      "name": "python3",
      "display_name": "Python 3"
    },
    "language_info": {
      "name": "python"
    }
  },
  "cells": [
    {
      "cell_type": "markdown",
      "metadata": {
        "id": "view-in-github",
        "colab_type": "text"
      },
      "source": [
        "<a href=\"https://colab.research.google.com/github/Malekkamoua/Android-Kotlin-Quiz-app-my-space/blob/main/5_Forecasting%20%7C%20LSTM.ipynb\" target=\"_parent\"><img src=\"https://colab.research.google.com/assets/colab-badge.svg\" alt=\"Open In Colab\"/></a>"
      ]
    },
    {
      "cell_type": "code",
      "execution_count": 23,
      "metadata": {
        "colab": {
          "base_uri": "https://localhost:8080/"
        },
        "id": "gBzqLLif20Ac",
        "outputId": "d6ec7c94-2ccf-4c2b-ada5-6cd4a332c32b"
      },
      "outputs": [
        {
          "output_type": "stream",
          "name": "stdout",
          "text": [
            "Drive already mounted at /content/gdrive; to attempt to forcibly remount, call drive.mount(\"/content/gdrive\", force_remount=True).\n"
          ]
        }
      ],
      "source": [
        "from google.colab import drive\n",
        "\n",
        "import pandas as pd\n",
        "import numpy as np\n",
        "import matplotlib.pyplot as plt\n",
        "import seaborn as sns\n",
        "%matplotlib inline\n",
        "\n",
        "drive.mount('/content/gdrive')"
      ]
    },
    {
      "cell_type": "code",
      "source": [
        "df = pd.read_csv('/content/gdrive/MyDrive/Datascience/PFE/datasets/final.csv', parse_dates=['dates'],  index_col='dates',infer_datetime_format=True)\n",
        "df.drop(['Unnamed: 0', 'Purity'], axis=1, inplace=True)"
      ],
      "metadata": {
        "id": "54A7EbwW4FME"
      },
      "execution_count": 24,
      "outputs": []
    },
    {
      "cell_type": "code",
      "source": [
        "def df_to_X_y(df, window_size=5):\n",
        "  df_as_np = df.to_numpy()\n",
        "  X = []\n",
        "  y = []\n",
        "  for i in range(len(df_as_np)-window_size):\n",
        "    row = [[a] for a in df_as_np[i:i+window_size]]\n",
        "    X.append(row)\n",
        "    label = df_as_np[i+window_size]\n",
        "    y.append(label)\n",
        "  return np.array(X), np.array(y)"
      ],
      "metadata": {
        "id": "uZdzkenQ4QB9"
      },
      "execution_count": 25,
      "outputs": []
    },
    {
      "cell_type": "code",
      "source": [
        "WINDOW_SIZE = 5\n",
        "X, y = df_to_X_y(df['% Silica Concentrate'], WINDOW_SIZE)\n",
        "X.shape, y.shape"
      ],
      "metadata": {
        "colab": {
          "base_uri": "https://localhost:8080/"
        },
        "id": "MKQa40O74XYa",
        "outputId": "76970692-bdc0-418b-d966-bc93b411b936"
      },
      "execution_count": 26,
      "outputs": [
        {
          "output_type": "execute_result",
          "data": {
            "text/plain": [
              "((3800, 5, 1), (3800,))"
            ]
          },
          "metadata": {},
          "execution_count": 26
        }
      ]
    },
    {
      "cell_type": "code",
      "source": [
        "X_train, y_train = X[:2000], y[:2000]\n",
        "X_val, y_val = X[2000:3500], y[2000:3500]\n",
        "X_test, y_test = X[3500:], y[3500:]\n",
        "X_train.shape, y_train.shape, X_val.shape, y_val.shape, X_test.shape, y_test.shape"
      ],
      "metadata": {
        "colab": {
          "base_uri": "https://localhost:8080/"
        },
        "id": "UQuJT4HC4mva",
        "outputId": "4c38ddfb-5f52-4d28-a736-6c7dec8d10a7"
      },
      "execution_count": 27,
      "outputs": [
        {
          "output_type": "execute_result",
          "data": {
            "text/plain": [
              "((2000, 5, 1), (2000,), (1500, 5, 1), (1500,), (300, 5, 1), (300,))"
            ]
          },
          "metadata": {},
          "execution_count": 27
        }
      ]
    },
    {
      "cell_type": "code",
      "source": [
        "from keras.models import Sequential\n",
        "from keras.layers import LSTM, Dense, InputLayer\n",
        "from keras.callbacks import ModelCheckpoint\n",
        "from keras.losses import MeanSquaredError\n",
        "from keras.metrics import RootMeanSquaredError\n",
        "from tensorflow.keras.optimizers import Adam\n",
        "\n",
        "model = Sequential()\n",
        "model.add(InputLayer((5, 1)))\n",
        "model.add(LSTM(64))\n",
        "model.add(Dense(8, 'relu'))\n",
        "model.add(Dense(1, 'linear'))\n",
        "\n",
        "model.summary()"
      ],
      "metadata": {
        "colab": {
          "base_uri": "https://localhost:8080/"
        },
        "id": "agAzelWP43jq",
        "outputId": "cf5d37fa-fef5-4752-aba7-810541303555"
      },
      "execution_count": 28,
      "outputs": [
        {
          "output_type": "stream",
          "name": "stdout",
          "text": [
            "Model: \"sequential_2\"\n",
            "_________________________________________________________________\n",
            " Layer (type)                Output Shape              Param #   \n",
            "=================================================================\n",
            " lstm_2 (LSTM)               (None, 64)                16896     \n",
            "                                                                 \n",
            " dense_4 (Dense)             (None, 8)                 520       \n",
            "                                                                 \n",
            " dense_5 (Dense)             (None, 1)                 9         \n",
            "                                                                 \n",
            "=================================================================\n",
            "Total params: 17,425\n",
            "Trainable params: 17,425\n",
            "Non-trainable params: 0\n",
            "_________________________________________________________________\n"
          ]
        }
      ]
    },
    {
      "cell_type": "code",
      "source": [
        "cp = ModelCheckpoint('model1/', save_best_only=True)\n",
        "model.compile(loss=MeanSquaredError(), optimizer=Adam(learning_rate=0.0025), metrics=[RootMeanSquaredError()])"
      ],
      "metadata": {
        "id": "gOkYkApi5EFB"
      },
      "execution_count": 29,
      "outputs": []
    },
    {
      "cell_type": "code",
      "source": [
        "model.fit(X_train, y_train,\n",
        "          validation_data=(X_val, y_val),\n",
        "          epochs=50,\n",
        "          callbacks=[cp])"
      ],
      "metadata": {
        "colab": {
          "base_uri": "https://localhost:8080/"
        },
        "id": "vgqutZsb5Iq4",
        "outputId": "2f2dd115-e5a0-4449-eb11-763a3326bf3c"
      },
      "execution_count": 30,
      "outputs": [
        {
          "output_type": "stream",
          "name": "stdout",
          "text": [
            "Epoch 1/50\n",
            "60/63 [===========================>..] - ETA: 0s - loss: 1.7503 - root_mean_squared_error: 1.3230"
          ]
        },
        {
          "output_type": "stream",
          "name": "stderr",
          "text": [
            "WARNING:absl:Found untraced functions such as lstm_cell_3_layer_call_fn, lstm_cell_3_layer_call_and_return_conditional_losses while saving (showing 2 of 2). These functions will not be directly callable after loading.\n"
          ]
        },
        {
          "output_type": "stream",
          "name": "stdout",
          "text": [
            "INFO:tensorflow:Assets written to: model1/assets\n"
          ]
        },
        {
          "output_type": "stream",
          "name": "stderr",
          "text": [
            "INFO:tensorflow:Assets written to: model1/assets\n",
            "WARNING:absl:<keras.layers.recurrent.LSTMCell object at 0x7f6238bb2890> has the same name 'LSTMCell' as a built-in Keras object. Consider renaming <class 'keras.layers.recurrent.LSTMCell'> to avoid naming conflicts when loading with `tf.keras.models.load_model`. If renaming is not possible, pass the object in the `custom_objects` parameter of the load function.\n"
          ]
        },
        {
          "output_type": "stream",
          "name": "stdout",
          "text": [
            "\b\b\b\b\b\b\b\b\b\b\b\b\b\b\b\b\b\b\b\b\b\b\b\b\b\b\b\b\b\b\b\b\b\b\b\b\b\b\b\b\b\b\b\b\b\b\b\b\b\b\b\b\b\b\b\b\b\b\b\b\b\b\b\b\b\b\b\b\b\b\b\b\b\b\b\b\b\b\b\b\b\b\b\b\b\b\b\b\b\b\b\b\b\b\b\b\b\r63/63 [==============================] - 8s 99ms/step - loss: 1.7014 - root_mean_squared_error: 1.3044 - val_loss: 0.6980 - val_root_mean_squared_error: 0.8355\n",
            "Epoch 2/50\n",
            "54/63 [========================>.....] - ETA: 0s - loss: 0.5228 - root_mean_squared_error: 0.7231"
          ]
        },
        {
          "output_type": "stream",
          "name": "stderr",
          "text": [
            "WARNING:absl:Found untraced functions such as lstm_cell_3_layer_call_fn, lstm_cell_3_layer_call_and_return_conditional_losses while saving (showing 2 of 2). These functions will not be directly callable after loading.\n"
          ]
        },
        {
          "output_type": "stream",
          "name": "stdout",
          "text": [
            "INFO:tensorflow:Assets written to: model1/assets\n"
          ]
        },
        {
          "output_type": "stream",
          "name": "stderr",
          "text": [
            "INFO:tensorflow:Assets written to: model1/assets\n",
            "WARNING:absl:<keras.layers.recurrent.LSTMCell object at 0x7f6238bb2890> has the same name 'LSTMCell' as a built-in Keras object. Consider renaming <class 'keras.layers.recurrent.LSTMCell'> to avoid naming conflicts when loading with `tf.keras.models.load_model`. If renaming is not possible, pass the object in the `custom_objects` parameter of the load function.\n"
          ]
        },
        {
          "output_type": "stream",
          "name": "stdout",
          "text": [
            "\b\b\b\b\b\b\b\b\b\b\b\b\b\b\b\b\b\b\b\b\b\b\b\b\b\b\b\b\b\b\b\b\b\b\b\b\b\b\b\b\b\b\b\b\b\b\b\b\b\b\b\b\b\b\b\b\b\b\b\b\b\b\b\b\b\b\b\b\b\b\b\b\b\b\b\b\b\b\b\b\b\b\b\b\b\b\b\b\b\b\b\b\b\b\b\b\b\r63/63 [==============================] - 5s 88ms/step - loss: 0.5230 - root_mean_squared_error: 0.7232 - val_loss: 0.6002 - val_root_mean_squared_error: 0.7747\n",
            "Epoch 3/50\n",
            "57/63 [==========================>...] - ETA: 0s - loss: 0.4587 - root_mean_squared_error: 0.6773"
          ]
        },
        {
          "output_type": "stream",
          "name": "stderr",
          "text": [
            "WARNING:absl:Found untraced functions such as lstm_cell_3_layer_call_fn, lstm_cell_3_layer_call_and_return_conditional_losses while saving (showing 2 of 2). These functions will not be directly callable after loading.\n"
          ]
        },
        {
          "output_type": "stream",
          "name": "stdout",
          "text": [
            "INFO:tensorflow:Assets written to: model1/assets\n"
          ]
        },
        {
          "output_type": "stream",
          "name": "stderr",
          "text": [
            "INFO:tensorflow:Assets written to: model1/assets\n",
            "WARNING:absl:<keras.layers.recurrent.LSTMCell object at 0x7f6238bb2890> has the same name 'LSTMCell' as a built-in Keras object. Consider renaming <class 'keras.layers.recurrent.LSTMCell'> to avoid naming conflicts when loading with `tf.keras.models.load_model`. If renaming is not possible, pass the object in the `custom_objects` parameter of the load function.\n"
          ]
        },
        {
          "output_type": "stream",
          "name": "stdout",
          "text": [
            "\b\b\b\b\b\b\b\b\b\b\b\b\b\b\b\b\b\b\b\b\b\b\b\b\b\b\b\b\b\b\b\b\b\b\b\b\b\b\b\b\b\b\b\b\b\b\b\b\b\b\b\b\b\b\b\b\b\b\b\b\b\b\b\b\b\b\b\b\b\b\b\b\b\b\b\b\b\b\b\b\b\b\b\b\b\b\b\b\b\b\b\b\b\b\b\b\b\r63/63 [==============================] - 5s 83ms/step - loss: 0.4472 - root_mean_squared_error: 0.6687 - val_loss: 0.5839 - val_root_mean_squared_error: 0.7641\n",
            "Epoch 4/50\n",
            "62/63 [============================>.] - ETA: 0s - loss: 0.4321 - root_mean_squared_error: 0.6574"
          ]
        },
        {
          "output_type": "stream",
          "name": "stderr",
          "text": [
            "WARNING:absl:Found untraced functions such as lstm_cell_3_layer_call_fn, lstm_cell_3_layer_call_and_return_conditional_losses while saving (showing 2 of 2). These functions will not be directly callable after loading.\n"
          ]
        },
        {
          "output_type": "stream",
          "name": "stdout",
          "text": [
            "INFO:tensorflow:Assets written to: model1/assets\n"
          ]
        },
        {
          "output_type": "stream",
          "name": "stderr",
          "text": [
            "INFO:tensorflow:Assets written to: model1/assets\n",
            "WARNING:absl:<keras.layers.recurrent.LSTMCell object at 0x7f6238bb2890> has the same name 'LSTMCell' as a built-in Keras object. Consider renaming <class 'keras.layers.recurrent.LSTMCell'> to avoid naming conflicts when loading with `tf.keras.models.load_model`. If renaming is not possible, pass the object in the `custom_objects` parameter of the load function.\n"
          ]
        },
        {
          "output_type": "stream",
          "name": "stdout",
          "text": [
            "\b\b\b\b\b\b\b\b\b\b\b\b\b\b\b\b\b\b\b\b\b\b\b\b\b\b\b\b\b\b\b\b\b\b\b\b\b\b\b\b\b\b\b\b\b\b\b\b\b\b\b\b\b\b\b\b\b\b\b\b\b\b\b\b\b\b\b\b\b\b\b\b\b\b\b\b\b\b\b\b\b\b\b\b\b\b\b\b\b\b\b\b\b\b\b\b\b\r63/63 [==============================] - 6s 91ms/step - loss: 0.4329 - root_mean_squared_error: 0.6580 - val_loss: 0.5479 - val_root_mean_squared_error: 0.7402\n",
            "Epoch 5/50\n",
            "59/63 [===========================>..] - ETA: 0s - loss: 0.3985 - root_mean_squared_error: 0.6313"
          ]
        },
        {
          "output_type": "stream",
          "name": "stderr",
          "text": [
            "WARNING:absl:Found untraced functions such as lstm_cell_3_layer_call_fn, lstm_cell_3_layer_call_and_return_conditional_losses while saving (showing 2 of 2). These functions will not be directly callable after loading.\n"
          ]
        },
        {
          "output_type": "stream",
          "name": "stdout",
          "text": [
            "INFO:tensorflow:Assets written to: model1/assets\n"
          ]
        },
        {
          "output_type": "stream",
          "name": "stderr",
          "text": [
            "INFO:tensorflow:Assets written to: model1/assets\n",
            "WARNING:absl:<keras.layers.recurrent.LSTMCell object at 0x7f6238bb2890> has the same name 'LSTMCell' as a built-in Keras object. Consider renaming <class 'keras.layers.recurrent.LSTMCell'> to avoid naming conflicts when loading with `tf.keras.models.load_model`. If renaming is not possible, pass the object in the `custom_objects` parameter of the load function.\n"
          ]
        },
        {
          "output_type": "stream",
          "name": "stdout",
          "text": [
            "\b\b\b\b\b\b\b\b\b\b\b\b\b\b\b\b\b\b\b\b\b\b\b\b\b\b\b\b\b\b\b\b\b\b\b\b\b\b\b\b\b\b\b\b\b\b\b\b\b\b\b\b\b\b\b\b\b\b\b\b\b\b\b\b\b\b\b\b\b\b\b\b\b\b\b\b\b\b\b\b\b\b\b\b\b\b\b\b\b\b\b\b\b\b\b\b\b\r63/63 [==============================] - 5s 82ms/step - loss: 0.4002 - root_mean_squared_error: 0.6326 - val_loss: 0.5336 - val_root_mean_squared_error: 0.7305\n",
            "Epoch 6/50\n",
            "63/63 [==============================] - 1s 8ms/step - loss: 0.3924 - root_mean_squared_error: 0.6264 - val_loss: 0.5804 - val_root_mean_squared_error: 0.7619\n",
            "Epoch 7/50\n",
            "60/63 [===========================>..] - ETA: 0s - loss: 0.3838 - root_mean_squared_error: 0.6195"
          ]
        },
        {
          "output_type": "stream",
          "name": "stderr",
          "text": [
            "WARNING:absl:Found untraced functions such as lstm_cell_3_layer_call_fn, lstm_cell_3_layer_call_and_return_conditional_losses while saving (showing 2 of 2). These functions will not be directly callable after loading.\n"
          ]
        },
        {
          "output_type": "stream",
          "name": "stdout",
          "text": [
            "INFO:tensorflow:Assets written to: model1/assets\n"
          ]
        },
        {
          "output_type": "stream",
          "name": "stderr",
          "text": [
            "INFO:tensorflow:Assets written to: model1/assets\n",
            "WARNING:absl:<keras.layers.recurrent.LSTMCell object at 0x7f6238bb2890> has the same name 'LSTMCell' as a built-in Keras object. Consider renaming <class 'keras.layers.recurrent.LSTMCell'> to avoid naming conflicts when loading with `tf.keras.models.load_model`. If renaming is not possible, pass the object in the `custom_objects` parameter of the load function.\n"
          ]
        },
        {
          "output_type": "stream",
          "name": "stdout",
          "text": [
            "\b\b\b\b\b\b\b\b\b\b\b\b\b\b\b\b\b\b\b\b\b\b\b\b\b\b\b\b\b\b\b\b\b\b\b\b\b\b\b\b\b\b\b\b\b\b\b\b\b\b\b\b\b\b\b\b\b\b\b\b\b\b\b\b\b\b\b\b\b\b\b\b\b\b\b\b\b\b\b\b\b\b\b\b\b\b\b\b\b\b\b\b\b\b\b\b\b\r63/63 [==============================] - 6s 90ms/step - loss: 0.3913 - root_mean_squared_error: 0.6255 - val_loss: 0.5292 - val_root_mean_squared_error: 0.7275\n",
            "Epoch 8/50\n",
            "60/63 [===========================>..] - ETA: 0s - loss: 0.3744 - root_mean_squared_error: 0.6119"
          ]
        },
        {
          "output_type": "stream",
          "name": "stderr",
          "text": [
            "WARNING:absl:Found untraced functions such as lstm_cell_3_layer_call_fn, lstm_cell_3_layer_call_and_return_conditional_losses while saving (showing 2 of 2). These functions will not be directly callable after loading.\n"
          ]
        },
        {
          "output_type": "stream",
          "name": "stdout",
          "text": [
            "INFO:tensorflow:Assets written to: model1/assets\n"
          ]
        },
        {
          "output_type": "stream",
          "name": "stderr",
          "text": [
            "INFO:tensorflow:Assets written to: model1/assets\n",
            "WARNING:absl:<keras.layers.recurrent.LSTMCell object at 0x7f6238bb2890> has the same name 'LSTMCell' as a built-in Keras object. Consider renaming <class 'keras.layers.recurrent.LSTMCell'> to avoid naming conflicts when loading with `tf.keras.models.load_model`. If renaming is not possible, pass the object in the `custom_objects` parameter of the load function.\n"
          ]
        },
        {
          "output_type": "stream",
          "name": "stdout",
          "text": [
            "\b\b\b\b\b\b\b\b\b\b\b\b\b\b\b\b\b\b\b\b\b\b\b\b\b\b\b\b\b\b\b\b\b\b\b\b\b\b\b\b\b\b\b\b\b\b\b\b\b\b\b\b\b\b\b\b\b\b\b\b\b\b\b\b\b\b\b\b\b\b\b\b\b\b\b\b\b\b\b\b\b\b\b\b\b\b\b\b\b\b\b\b\b\b\b\b\b\r63/63 [==============================] - 5s 83ms/step - loss: 0.3797 - root_mean_squared_error: 0.6162 - val_loss: 0.5211 - val_root_mean_squared_error: 0.7219\n",
            "Epoch 9/50\n",
            "63/63 [==============================] - 0s 8ms/step - loss: 0.3835 - root_mean_squared_error: 0.6193 - val_loss: 0.5484 - val_root_mean_squared_error: 0.7406\n",
            "Epoch 10/50\n",
            "61/63 [============================>.] - ETA: 0s - loss: 0.3874 - root_mean_squared_error: 0.6224"
          ]
        },
        {
          "output_type": "stream",
          "name": "stderr",
          "text": [
            "WARNING:absl:Found untraced functions such as lstm_cell_3_layer_call_fn, lstm_cell_3_layer_call_and_return_conditional_losses while saving (showing 2 of 2). These functions will not be directly callable after loading.\n"
          ]
        },
        {
          "output_type": "stream",
          "name": "stdout",
          "text": [
            "INFO:tensorflow:Assets written to: model1/assets\n"
          ]
        },
        {
          "output_type": "stream",
          "name": "stderr",
          "text": [
            "INFO:tensorflow:Assets written to: model1/assets\n",
            "WARNING:absl:<keras.layers.recurrent.LSTMCell object at 0x7f6238bb2890> has the same name 'LSTMCell' as a built-in Keras object. Consider renaming <class 'keras.layers.recurrent.LSTMCell'> to avoid naming conflicts when loading with `tf.keras.models.load_model`. If renaming is not possible, pass the object in the `custom_objects` parameter of the load function.\n"
          ]
        },
        {
          "output_type": "stream",
          "name": "stdout",
          "text": [
            "\b\b\b\b\b\b\b\b\b\b\b\b\b\b\b\b\b\b\b\b\b\b\b\b\b\b\b\b\b\b\b\b\b\b\b\b\b\b\b\b\b\b\b\b\b\b\b\b\b\b\b\b\b\b\b\b\b\b\b\b\b\b\b\b\b\b\b\b\b\b\b\b\b\b\b\b\b\b\b\b\b\b\b\b\b\b\b\b\b\b\b\b\b\b\b\b\b\r63/63 [==============================] - 5s 89ms/step - loss: 0.3820 - root_mean_squared_error: 0.6180 - val_loss: 0.5195 - val_root_mean_squared_error: 0.7208\n",
            "Epoch 11/50\n",
            "54/63 [========================>.....] - ETA: 0s - loss: 0.3874 - root_mean_squared_error: 0.6224"
          ]
        },
        {
          "output_type": "stream",
          "name": "stderr",
          "text": [
            "WARNING:absl:Found untraced functions such as lstm_cell_3_layer_call_fn, lstm_cell_3_layer_call_and_return_conditional_losses while saving (showing 2 of 2). These functions will not be directly callable after loading.\n"
          ]
        },
        {
          "output_type": "stream",
          "name": "stdout",
          "text": [
            "INFO:tensorflow:Assets written to: model1/assets\n"
          ]
        },
        {
          "output_type": "stream",
          "name": "stderr",
          "text": [
            "INFO:tensorflow:Assets written to: model1/assets\n",
            "WARNING:absl:<keras.layers.recurrent.LSTMCell object at 0x7f6238bb2890> has the same name 'LSTMCell' as a built-in Keras object. Consider renaming <class 'keras.layers.recurrent.LSTMCell'> to avoid naming conflicts when loading with `tf.keras.models.load_model`. If renaming is not possible, pass the object in the `custom_objects` parameter of the load function.\n"
          ]
        },
        {
          "output_type": "stream",
          "name": "stdout",
          "text": [
            "\b\b\b\b\b\b\b\b\b\b\b\b\b\b\b\b\b\b\b\b\b\b\b\b\b\b\b\b\b\b\b\b\b\b\b\b\b\b\b\b\b\b\b\b\b\b\b\b\b\b\b\b\b\b\b\b\b\b\b\b\b\b\b\b\b\b\b\b\b\b\b\b\b\b\b\b\b\b\b\b\b\b\b\b\b\b\b\b\b\b\b\b\b\b\b\b\b\r63/63 [==============================] - 5s 88ms/step - loss: 0.3812 - root_mean_squared_error: 0.6174 - val_loss: 0.5186 - val_root_mean_squared_error: 0.7202\n",
            "Epoch 12/50\n",
            "63/63 [==============================] - 0s 8ms/step - loss: 0.3804 - root_mean_squared_error: 0.6168 - val_loss: 0.5293 - val_root_mean_squared_error: 0.7275\n",
            "Epoch 13/50\n",
            "63/63 [==============================] - ETA: 0s - loss: 0.3784 - root_mean_squared_error: 0.6152"
          ]
        },
        {
          "output_type": "stream",
          "name": "stderr",
          "text": [
            "WARNING:absl:Found untraced functions such as lstm_cell_3_layer_call_fn, lstm_cell_3_layer_call_and_return_conditional_losses while saving (showing 2 of 2). These functions will not be directly callable after loading.\n"
          ]
        },
        {
          "output_type": "stream",
          "name": "stdout",
          "text": [
            "INFO:tensorflow:Assets written to: model1/assets\n"
          ]
        },
        {
          "output_type": "stream",
          "name": "stderr",
          "text": [
            "INFO:tensorflow:Assets written to: model1/assets\n",
            "WARNING:absl:<keras.layers.recurrent.LSTMCell object at 0x7f6238bb2890> has the same name 'LSTMCell' as a built-in Keras object. Consider renaming <class 'keras.layers.recurrent.LSTMCell'> to avoid naming conflicts when loading with `tf.keras.models.load_model`. If renaming is not possible, pass the object in the `custom_objects` parameter of the load function.\n"
          ]
        },
        {
          "output_type": "stream",
          "name": "stdout",
          "text": [
            "\b\b\b\b\b\b\b\b\b\b\b\b\b\b\b\b\b\b\b\b\b\b\b\b\b\b\b\b\b\b\b\b\b\b\b\b\b\b\b\b\b\b\b\b\b\b\b\b\b\b\b\b\b\b\b\b\b\b\b\b\b\b\b\b\b\b\b\b\b\b\b\b\b\b\b\b\b\b\b\b\b\b\b\b\b\b\b\b\b\b\b\b\b\b\b\b\b\r63/63 [==============================] - 5s 81ms/step - loss: 0.3784 - root_mean_squared_error: 0.6152 - val_loss: 0.5160 - val_root_mean_squared_error: 0.7183\n",
            "Epoch 14/50\n",
            "63/63 [==============================] - 0s 7ms/step - loss: 0.3822 - root_mean_squared_error: 0.6182 - val_loss: 0.5192 - val_root_mean_squared_error: 0.7205\n",
            "Epoch 15/50\n",
            "63/63 [==============================] - ETA: 0s - loss: 0.3833 - root_mean_squared_error: 0.6191"
          ]
        },
        {
          "output_type": "stream",
          "name": "stderr",
          "text": [
            "WARNING:absl:Found untraced functions such as lstm_cell_3_layer_call_fn, lstm_cell_3_layer_call_and_return_conditional_losses while saving (showing 2 of 2). These functions will not be directly callable after loading.\n"
          ]
        },
        {
          "output_type": "stream",
          "name": "stdout",
          "text": [
            "INFO:tensorflow:Assets written to: model1/assets\n"
          ]
        },
        {
          "output_type": "stream",
          "name": "stderr",
          "text": [
            "INFO:tensorflow:Assets written to: model1/assets\n",
            "WARNING:absl:<keras.layers.recurrent.LSTMCell object at 0x7f6238bb2890> has the same name 'LSTMCell' as a built-in Keras object. Consider renaming <class 'keras.layers.recurrent.LSTMCell'> to avoid naming conflicts when loading with `tf.keras.models.load_model`. If renaming is not possible, pass the object in the `custom_objects` parameter of the load function.\n"
          ]
        },
        {
          "output_type": "stream",
          "name": "stdout",
          "text": [
            "\b\b\b\b\b\b\b\b\b\b\b\b\b\b\b\b\b\b\b\b\b\b\b\b\b\b\b\b\b\b\b\b\b\b\b\b\b\b\b\b\b\b\b\b\b\b\b\b\b\b\b\b\b\b\b\b\b\b\b\b\b\b\b\b\b\b\b\b\b\b\b\b\b\b\b\b\b\b\b\b\b\b\b\b\b\b\b\b\b\b\b\b\b\b\b\b\b\r63/63 [==============================] - 6s 90ms/step - loss: 0.3833 - root_mean_squared_error: 0.6191 - val_loss: 0.5131 - val_root_mean_squared_error: 0.7163\n",
            "Epoch 16/50\n",
            "63/63 [==============================] - 0s 7ms/step - loss: 0.3780 - root_mean_squared_error: 0.6149 - val_loss: 0.5196 - val_root_mean_squared_error: 0.7208\n",
            "Epoch 17/50\n",
            "63/63 [==============================] - 0s 7ms/step - loss: 0.3910 - root_mean_squared_error: 0.6253 - val_loss: 0.5226 - val_root_mean_squared_error: 0.7229\n",
            "Epoch 18/50\n",
            "63/63 [==============================] - 0s 7ms/step - loss: 0.3870 - root_mean_squared_error: 0.6221 - val_loss: 0.5197 - val_root_mean_squared_error: 0.7209\n",
            "Epoch 19/50\n",
            "63/63 [==============================] - 0s 8ms/step - loss: 0.3781 - root_mean_squared_error: 0.6149 - val_loss: 0.5320 - val_root_mean_squared_error: 0.7294\n",
            "Epoch 20/50\n",
            "63/63 [==============================] - 0s 7ms/step - loss: 0.3823 - root_mean_squared_error: 0.6183 - val_loss: 0.5257 - val_root_mean_squared_error: 0.7251\n",
            "Epoch 21/50\n",
            "63/63 [==============================] - 0s 7ms/step - loss: 0.3790 - root_mean_squared_error: 0.6156 - val_loss: 0.5330 - val_root_mean_squared_error: 0.7300\n",
            "Epoch 22/50\n",
            "63/63 [==============================] - 0s 7ms/step - loss: 0.3747 - root_mean_squared_error: 0.6121 - val_loss: 0.5355 - val_root_mean_squared_error: 0.7318\n",
            "Epoch 23/50\n",
            "63/63 [==============================] - 0s 7ms/step - loss: 0.3928 - root_mean_squared_error: 0.6268 - val_loss: 0.5453 - val_root_mean_squared_error: 0.7385\n",
            "Epoch 24/50\n",
            "63/63 [==============================] - 0s 7ms/step - loss: 0.3842 - root_mean_squared_error: 0.6198 - val_loss: 0.5143 - val_root_mean_squared_error: 0.7171\n",
            "Epoch 25/50\n",
            "63/63 [==============================] - 0s 7ms/step - loss: 0.3779 - root_mean_squared_error: 0.6147 - val_loss: 0.5140 - val_root_mean_squared_error: 0.7169\n",
            "Epoch 26/50\n",
            "63/63 [==============================] - 0s 8ms/step - loss: 0.3787 - root_mean_squared_error: 0.6154 - val_loss: 0.5212 - val_root_mean_squared_error: 0.7219\n",
            "Epoch 27/50\n",
            "63/63 [==============================] - 1s 8ms/step - loss: 0.3749 - root_mean_squared_error: 0.6123 - val_loss: 0.5187 - val_root_mean_squared_error: 0.7202\n",
            "Epoch 28/50\n",
            "63/63 [==============================] - 1s 8ms/step - loss: 0.3755 - root_mean_squared_error: 0.6128 - val_loss: 0.5308 - val_root_mean_squared_error: 0.7286\n",
            "Epoch 29/50\n",
            "63/63 [==============================] - 1s 8ms/step - loss: 0.3766 - root_mean_squared_error: 0.6136 - val_loss: 0.5194 - val_root_mean_squared_error: 0.7207\n",
            "Epoch 30/50\n",
            "63/63 [==============================] - 0s 8ms/step - loss: 0.3767 - root_mean_squared_error: 0.6137 - val_loss: 0.5392 - val_root_mean_squared_error: 0.7343\n",
            "Epoch 31/50\n",
            "63/63 [==============================] - 1s 8ms/step - loss: 0.3771 - root_mean_squared_error: 0.6141 - val_loss: 0.5223 - val_root_mean_squared_error: 0.7227\n",
            "Epoch 32/50\n",
            "63/63 [==============================] - 0s 8ms/step - loss: 0.3760 - root_mean_squared_error: 0.6132 - val_loss: 0.5346 - val_root_mean_squared_error: 0.7312\n",
            "Epoch 33/50\n",
            "63/63 [==============================] - 0s 7ms/step - loss: 0.3772 - root_mean_squared_error: 0.6142 - val_loss: 0.5143 - val_root_mean_squared_error: 0.7172\n",
            "Epoch 34/50\n",
            "63/63 [==============================] - 0s 7ms/step - loss: 0.3818 - root_mean_squared_error: 0.6179 - val_loss: 0.5156 - val_root_mean_squared_error: 0.7180\n",
            "Epoch 35/50\n",
            "63/63 [==============================] - 1s 8ms/step - loss: 0.3806 - root_mean_squared_error: 0.6170 - val_loss: 0.5139 - val_root_mean_squared_error: 0.7169\n",
            "Epoch 36/50\n",
            "63/63 [==============================] - 0s 8ms/step - loss: 0.3798 - root_mean_squared_error: 0.6162 - val_loss: 0.5541 - val_root_mean_squared_error: 0.7444\n",
            "Epoch 37/50\n",
            "63/63 [==============================] - 1s 8ms/step - loss: 0.3828 - root_mean_squared_error: 0.6187 - val_loss: 0.5248 - val_root_mean_squared_error: 0.7244\n",
            "Epoch 38/50\n",
            "63/63 [==============================] - 0s 8ms/step - loss: 0.3744 - root_mean_squared_error: 0.6119 - val_loss: 0.5303 - val_root_mean_squared_error: 0.7282\n",
            "Epoch 39/50\n",
            "63/63 [==============================] - 1s 13ms/step - loss: 0.3724 - root_mean_squared_error: 0.6103 - val_loss: 0.5364 - val_root_mean_squared_error: 0.7324\n",
            "Epoch 40/50\n",
            "63/63 [==============================] - 1s 13ms/step - loss: 0.3733 - root_mean_squared_error: 0.6110 - val_loss: 0.5552 - val_root_mean_squared_error: 0.7451\n",
            "Epoch 41/50\n",
            "63/63 [==============================] - 1s 16ms/step - loss: 0.3769 - root_mean_squared_error: 0.6139 - val_loss: 0.5157 - val_root_mean_squared_error: 0.7181\n",
            "Epoch 42/50\n",
            "63/63 [==============================] - 1s 10ms/step - loss: 0.3763 - root_mean_squared_error: 0.6134 - val_loss: 0.5135 - val_root_mean_squared_error: 0.7166\n",
            "Epoch 43/50\n",
            "63/63 [==============================] - 1s 18ms/step - loss: 0.3725 - root_mean_squared_error: 0.6103 - val_loss: 0.5614 - val_root_mean_squared_error: 0.7493\n",
            "Epoch 44/50\n",
            "59/63 [===========================>..] - ETA: 0s - loss: 0.3768 - root_mean_squared_error: 0.6138"
          ]
        },
        {
          "output_type": "stream",
          "name": "stderr",
          "text": [
            "WARNING:absl:Found untraced functions such as lstm_cell_3_layer_call_fn, lstm_cell_3_layer_call_and_return_conditional_losses while saving (showing 2 of 2). These functions will not be directly callable after loading.\n"
          ]
        },
        {
          "output_type": "stream",
          "name": "stdout",
          "text": [
            "INFO:tensorflow:Assets written to: model1/assets\n"
          ]
        },
        {
          "output_type": "stream",
          "name": "stderr",
          "text": [
            "INFO:tensorflow:Assets written to: model1/assets\n",
            "WARNING:absl:<keras.layers.recurrent.LSTMCell object at 0x7f6238bb2890> has the same name 'LSTMCell' as a built-in Keras object. Consider renaming <class 'keras.layers.recurrent.LSTMCell'> to avoid naming conflicts when loading with `tf.keras.models.load_model`. If renaming is not possible, pass the object in the `custom_objects` parameter of the load function.\n"
          ]
        },
        {
          "output_type": "stream",
          "name": "stdout",
          "text": [
            "\b\b\b\b\b\b\b\b\b\b\b\b\b\b\b\b\b\b\b\b\b\b\b\b\b\b\b\b\b\b\b\b\b\b\b\b\b\b\b\b\b\b\b\b\b\b\b\b\b\b\b\b\b\b\b\b\b\b\b\b\b\b\b\b\b\b\b\b\b\b\b\b\b\b\b\b\b\b\b\b\b\b\b\b\b\b\b\b\b\b\b\b\b\b\b\b\b\r63/63 [==============================] - 5s 83ms/step - loss: 0.3763 - root_mean_squared_error: 0.6134 - val_loss: 0.5114 - val_root_mean_squared_error: 0.7151\n",
            "Epoch 45/50\n",
            "63/63 [==============================] - 0s 7ms/step - loss: 0.3712 - root_mean_squared_error: 0.6093 - val_loss: 0.5179 - val_root_mean_squared_error: 0.7196\n",
            "Epoch 46/50\n",
            "63/63 [==============================] - 1s 8ms/step - loss: 0.3722 - root_mean_squared_error: 0.6101 - val_loss: 0.5123 - val_root_mean_squared_error: 0.7157\n",
            "Epoch 47/50\n",
            "63/63 [==============================] - 0s 7ms/step - loss: 0.3771 - root_mean_squared_error: 0.6141 - val_loss: 0.5631 - val_root_mean_squared_error: 0.7504\n",
            "Epoch 48/50\n",
            "63/63 [==============================] - 0s 8ms/step - loss: 0.3763 - root_mean_squared_error: 0.6135 - val_loss: 0.5215 - val_root_mean_squared_error: 0.7222\n",
            "Epoch 49/50\n",
            "63/63 [==============================] - 0s 8ms/step - loss: 0.3727 - root_mean_squared_error: 0.6105 - val_loss: 0.5140 - val_root_mean_squared_error: 0.7170\n",
            "Epoch 50/50\n",
            "63/63 [==============================] - 1s 8ms/step - loss: 0.3763 - root_mean_squared_error: 0.6135 - val_loss: 0.5192 - val_root_mean_squared_error: 0.7205\n"
          ]
        },
        {
          "output_type": "execute_result",
          "data": {
            "text/plain": [
              "<keras.callbacks.History at 0x7f6236228c90>"
            ]
          },
          "metadata": {},
          "execution_count": 30
        }
      ]
    },
    {
      "cell_type": "code",
      "source": [
        "from tensorflow.keras.models import load_model\n",
        "model = load_model('model1/')\n",
        "\n",
        "train_predictions = model.predict(X_train).flatten()\n",
        "train_results = pd.DataFrame(data={'Train Predictions':train_predictions, 'Actuals':y_train})\n",
        "train_results"
      ],
      "metadata": {
        "colab": {
          "base_uri": "https://localhost:8080/",
          "height": 424
        },
        "id": "aHGVYxBt5QI4",
        "outputId": "48651bec-af5b-4087-f225-c8649d923185"
      },
      "execution_count": 31,
      "outputs": [
        {
          "output_type": "execute_result",
          "data": {
            "text/plain": [
              "      Train Predictions  Actuals\n",
              "0              1.533895     1.15\n",
              "1              1.397537     2.76\n",
              "2              2.399525     2.65\n",
              "3              2.683745     1.73\n",
              "4              1.895116     1.81\n",
              "...                 ...      ...\n",
              "1995           1.692004     1.47\n",
              "1996           1.619546     1.60\n",
              "1997           1.722058     1.46\n",
              "1998           1.646978     1.06\n",
              "1999           1.356009     1.19\n",
              "\n",
              "[2000 rows x 2 columns]"
            ],
            "text/html": [
              "\n",
              "  <div id=\"df-621c9e24-ad52-48ad-8002-8049d9a2948f\">\n",
              "    <div class=\"colab-df-container\">\n",
              "      <div>\n",
              "<style scoped>\n",
              "    .dataframe tbody tr th:only-of-type {\n",
              "        vertical-align: middle;\n",
              "    }\n",
              "\n",
              "    .dataframe tbody tr th {\n",
              "        vertical-align: top;\n",
              "    }\n",
              "\n",
              "    .dataframe thead th {\n",
              "        text-align: right;\n",
              "    }\n",
              "</style>\n",
              "<table border=\"1\" class=\"dataframe\">\n",
              "  <thead>\n",
              "    <tr style=\"text-align: right;\">\n",
              "      <th></th>\n",
              "      <th>Train Predictions</th>\n",
              "      <th>Actuals</th>\n",
              "    </tr>\n",
              "  </thead>\n",
              "  <tbody>\n",
              "    <tr>\n",
              "      <th>0</th>\n",
              "      <td>1.533895</td>\n",
              "      <td>1.15</td>\n",
              "    </tr>\n",
              "    <tr>\n",
              "      <th>1</th>\n",
              "      <td>1.397537</td>\n",
              "      <td>2.76</td>\n",
              "    </tr>\n",
              "    <tr>\n",
              "      <th>2</th>\n",
              "      <td>2.399525</td>\n",
              "      <td>2.65</td>\n",
              "    </tr>\n",
              "    <tr>\n",
              "      <th>3</th>\n",
              "      <td>2.683745</td>\n",
              "      <td>1.73</td>\n",
              "    </tr>\n",
              "    <tr>\n",
              "      <th>4</th>\n",
              "      <td>1.895116</td>\n",
              "      <td>1.81</td>\n",
              "    </tr>\n",
              "    <tr>\n",
              "      <th>...</th>\n",
              "      <td>...</td>\n",
              "      <td>...</td>\n",
              "    </tr>\n",
              "    <tr>\n",
              "      <th>1995</th>\n",
              "      <td>1.692004</td>\n",
              "      <td>1.47</td>\n",
              "    </tr>\n",
              "    <tr>\n",
              "      <th>1996</th>\n",
              "      <td>1.619546</td>\n",
              "      <td>1.60</td>\n",
              "    </tr>\n",
              "    <tr>\n",
              "      <th>1997</th>\n",
              "      <td>1.722058</td>\n",
              "      <td>1.46</td>\n",
              "    </tr>\n",
              "    <tr>\n",
              "      <th>1998</th>\n",
              "      <td>1.646978</td>\n",
              "      <td>1.06</td>\n",
              "    </tr>\n",
              "    <tr>\n",
              "      <th>1999</th>\n",
              "      <td>1.356009</td>\n",
              "      <td>1.19</td>\n",
              "    </tr>\n",
              "  </tbody>\n",
              "</table>\n",
              "<p>2000 rows × 2 columns</p>\n",
              "</div>\n",
              "      <button class=\"colab-df-convert\" onclick=\"convertToInteractive('df-621c9e24-ad52-48ad-8002-8049d9a2948f')\"\n",
              "              title=\"Convert this dataframe to an interactive table.\"\n",
              "              style=\"display:none;\">\n",
              "        \n",
              "  <svg xmlns=\"http://www.w3.org/2000/svg\" height=\"24px\"viewBox=\"0 0 24 24\"\n",
              "       width=\"24px\">\n",
              "    <path d=\"M0 0h24v24H0V0z\" fill=\"none\"/>\n",
              "    <path d=\"M18.56 5.44l.94 2.06.94-2.06 2.06-.94-2.06-.94-.94-2.06-.94 2.06-2.06.94zm-11 1L8.5 8.5l.94-2.06 2.06-.94-2.06-.94L8.5 2.5l-.94 2.06-2.06.94zm10 10l.94 2.06.94-2.06 2.06-.94-2.06-.94-.94-2.06-.94 2.06-2.06.94z\"/><path d=\"M17.41 7.96l-1.37-1.37c-.4-.4-.92-.59-1.43-.59-.52 0-1.04.2-1.43.59L10.3 9.45l-7.72 7.72c-.78.78-.78 2.05 0 2.83L4 21.41c.39.39.9.59 1.41.59.51 0 1.02-.2 1.41-.59l7.78-7.78 2.81-2.81c.8-.78.8-2.07 0-2.86zM5.41 20L4 18.59l7.72-7.72 1.47 1.35L5.41 20z\"/>\n",
              "  </svg>\n",
              "      </button>\n",
              "      \n",
              "  <style>\n",
              "    .colab-df-container {\n",
              "      display:flex;\n",
              "      flex-wrap:wrap;\n",
              "      gap: 12px;\n",
              "    }\n",
              "\n",
              "    .colab-df-convert {\n",
              "      background-color: #E8F0FE;\n",
              "      border: none;\n",
              "      border-radius: 50%;\n",
              "      cursor: pointer;\n",
              "      display: none;\n",
              "      fill: #1967D2;\n",
              "      height: 32px;\n",
              "      padding: 0 0 0 0;\n",
              "      width: 32px;\n",
              "    }\n",
              "\n",
              "    .colab-df-convert:hover {\n",
              "      background-color: #E2EBFA;\n",
              "      box-shadow: 0px 1px 2px rgba(60, 64, 67, 0.3), 0px 1px 3px 1px rgba(60, 64, 67, 0.15);\n",
              "      fill: #174EA6;\n",
              "    }\n",
              "\n",
              "    [theme=dark] .colab-df-convert {\n",
              "      background-color: #3B4455;\n",
              "      fill: #D2E3FC;\n",
              "    }\n",
              "\n",
              "    [theme=dark] .colab-df-convert:hover {\n",
              "      background-color: #434B5C;\n",
              "      box-shadow: 0px 1px 3px 1px rgba(0, 0, 0, 0.15);\n",
              "      filter: drop-shadow(0px 1px 2px rgba(0, 0, 0, 0.3));\n",
              "      fill: #FFFFFF;\n",
              "    }\n",
              "  </style>\n",
              "\n",
              "      <script>\n",
              "        const buttonEl =\n",
              "          document.querySelector('#df-621c9e24-ad52-48ad-8002-8049d9a2948f button.colab-df-convert');\n",
              "        buttonEl.style.display =\n",
              "          google.colab.kernel.accessAllowed ? 'block' : 'none';\n",
              "\n",
              "        async function convertToInteractive(key) {\n",
              "          const element = document.querySelector('#df-621c9e24-ad52-48ad-8002-8049d9a2948f');\n",
              "          const dataTable =\n",
              "            await google.colab.kernel.invokeFunction('convertToInteractive',\n",
              "                                                     [key], {});\n",
              "          if (!dataTable) return;\n",
              "\n",
              "          const docLinkHtml = 'Like what you see? Visit the ' +\n",
              "            '<a target=\"_blank\" href=https://colab.research.google.com/notebooks/data_table.ipynb>data table notebook</a>'\n",
              "            + ' to learn more about interactive tables.';\n",
              "          element.innerHTML = '';\n",
              "          dataTable['output_type'] = 'display_data';\n",
              "          await google.colab.output.renderOutput(dataTable, element);\n",
              "          const docLink = document.createElement('div');\n",
              "          docLink.innerHTML = docLinkHtml;\n",
              "          element.appendChild(docLink);\n",
              "        }\n",
              "      </script>\n",
              "    </div>\n",
              "  </div>\n",
              "  "
            ]
          },
          "metadata": {},
          "execution_count": 31
        }
      ]
    },
    {
      "cell_type": "code",
      "source": [
        "from statsmodels.tsa.stattools import acf\n",
        "\n",
        "def forecast_accuracy(forecast, actual):\n",
        "    mape = np.mean(np.abs(forecast - actual)/np.abs(actual))  \n",
        "    mae = np.mean(np.abs(forecast - actual))    \n",
        "    rmse = np.mean((forecast - actual)**2)**.5  \n",
        "\n",
        "    return mape, mae, rmse"
      ],
      "metadata": {
        "id": "XA8kG1Xo5hez"
      },
      "execution_count": 32,
      "outputs": []
    },
    {
      "cell_type": "code",
      "source": [
        "import matplotlib.pyplot as plt\n",
        "\n",
        "mape, mae, rmse = forecast_accuracy(train_results['Train Predictions'], train_results['Actuals'])\n",
        "\n",
        "fig, ax = plt.subplots(figsize=(20,5))\n",
        "plt.plot(train_results['Train Predictions'][0:100], color='orange')\n",
        "plt.plot(train_results['Actuals'][0:100])\n",
        "plt.title(\"Predictions with LSTM [RMSE = %.3f]\" % rmse)\n",
        "plt.show()"
      ],
      "metadata": {
        "colab": {
          "base_uri": "https://localhost:8080/",
          "height": 336
        },
        "id": "I3HVc2RB5cAc",
        "outputId": "e61f5218-c590-4358-9602-021d08cc078a"
      },
      "execution_count": 34,
      "outputs": [
        {
          "output_type": "display_data",
          "data": {
            "text/plain": [
              "<Figure size 1440x360 with 1 Axes>"
            ],
            "image/png": "[encoded data removed]"
          },
          "metadata": {
            "needs_background": "light"
          }
        }
      ]
    },
    {
      "cell_type": "code",
      "source": [
        ""
      ],
      "metadata": {
        "id": "E4rYHNvh67Lj"
      },
      "execution_count": null,
      "outputs": []
    }
  ]
}