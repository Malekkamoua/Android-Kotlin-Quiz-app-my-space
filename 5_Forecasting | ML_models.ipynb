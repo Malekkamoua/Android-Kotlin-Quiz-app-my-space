{
  "nbformat": 4,
  "nbformat_minor": 0,
  "metadata": {
    "colab": {
      "name": "5. Forecasting | ML models.ipynb",
      "provenance": [],
      "collapsed_sections": [],
      "authorship_tag": "ABX9TyPBmCcKtrdjac2xzxNdToi1",
      "include_colab_link": true
    },
    "kernelspec": {
      "name": "python3",
      "display_name": "Python 3"
    },
    "language_info": {
      "name": "python"
    }
  },
  "cells": [
    {
      "cell_type": "markdown",
      "metadata": {
        "id": "view-in-github",
        "colab_type": "text"
      },
      "source": [
        "<a href=\"https://colab.research.google.com/github/Malekkamoua/Android-Kotlin-Quiz-app-my-space/blob/main/5_Forecasting%20%7C%20ML_models.ipynb\" target=\"_parent\"><img src=\"https://colab.research.google.com/assets/colab-badge.svg\" alt=\"Open In Colab\"/></a>"
      ]
    },
    {
      "cell_type": "code",
      "execution_count": 1,
      "metadata": {
        "colab": {
          "base_uri": "https://localhost:8080/"
        },
        "id": "kxnlmFWjcFv-",
        "outputId": "c7d12f51-8c01-4406-b6fe-0a1a5049c2d4"
      },
      "outputs": [
        {
          "output_type": "stream",
          "name": "stdout",
          "text": [
            "Mounted at /content/gdrive\n"
          ]
        }
      ],
      "source": [
        "from google.colab import drive\n",
        "\n",
        "import pandas as pd\n",
        "import numpy as np\n",
        "import matplotlib.pyplot as plt\n",
        "import seaborn as sns\n",
        "%matplotlib inline\n",
        "\n",
        "drive.mount('/content/gdrive')"
      ]
    },
    {
      "cell_type": "code",
      "source": [
        "df = pd.read_csv('/content/gdrive/MyDrive/Datascience/PFE/datasets/final.csv', parse_dates=['dates'],  index_col='dates',infer_datetime_format=True)\n",
        "df.drop('Unnamed: 0', axis=1, inplace=True)\n",
        "\n",
        "sns.countplot(x ='Purity', data = df)\n",
        "plt.show()"
      ],
      "metadata": {
        "colab": {
          "base_uri": "https://localhost:8080/",
          "height": 279
        },
        "id": "dh4xITticMpY",
        "outputId": "7ef0215b-8be8-4514-d95e-4fce0f7f5fcb"
      },
      "execution_count": 2,
      "outputs": [
        {
          "output_type": "display_data",
          "data": {
            "text/plain": [
              "<Figure size 432x288 with 1 Axes>"
            ],
            "image/png": "[encoded data removed]"
          },
          "metadata": {
            "needs_background": "light"
          }
        }
      ]
    },
    {
      "cell_type": "code",
      "source": [
        "from numpy import split\n",
        "from numpy import array\n",
        "\n",
        "def split_dataset(data):\n",
        "\t# split into standard weeks\n",
        "\ttrain, test = data[1:-328], data[-328:-6]\n",
        "\t# restructure into windows of weekly data\n",
        "\ttrain = array(split(train, len(train)/7))\n",
        "\ttest = array(split(test, len(test)/7))\n",
        "\treturn train, test"
      ],
      "metadata": {
        "id": "hC4dhA5vccg8"
      },
      "execution_count": 3,
      "outputs": []
    },
    {
      "cell_type": "code",
      "source": [
        "from sklearn.linear_model import LinearRegression\n",
        "from sklearn.linear_model import Lasso\n",
        "from sklearn.linear_model import Ridge\n",
        "from sklearn.linear_model import ElasticNet\n",
        "from sklearn.linear_model import HuberRegressor\n",
        "from sklearn.linear_model import Lars\n",
        "from sklearn.linear_model import LassoLars\n",
        "from sklearn.linear_model import PassiveAggressiveRegressor\n",
        "from sklearn.linear_model import RANSACRegressor\n",
        "from sklearn.linear_model import SGDRegressor\n",
        "\n",
        "def get_models(models=dict()):\n",
        "\t# linear models\n",
        "\tmodels['lr'] = LinearRegression()\n",
        "\tmodels['lasso'] = Lasso()\n",
        "\tmodels['ridge'] = Ridge()\n",
        "\tmodels['en'] = ElasticNet()\n",
        "\tmodels['huber'] = HuberRegressor()\n",
        "\tmodels['lars'] = Lars()\n",
        "\tmodels['llars'] = LassoLars()\n",
        "\tmodels['pa'] = PassiveAggressiveRegressor(max_iter=1000, tol=1e-3)\n",
        "\tmodels['ranscac'] = RANSACRegressor()\n",
        "\tmodels['sgd'] = SGDRegressor(max_iter=1000, tol=1e-3)\n",
        "\tprint('Defined %d models' % len(models))\n",
        "\treturn models"
      ],
      "metadata": {
        "id": "H_Yo7Rebc1Pt"
      },
      "execution_count": 6,
      "outputs": []
    },
    {
      "cell_type": "code",
      "source": [
        "from sklearn.metrics import mean_squared_error\n",
        "from math import sqrt\n",
        "\n",
        "def evaluate_forecasts(actual, predicted):\n",
        "\tscores = list()\n",
        "\t# calculate an RMSE score for each day\n",
        "\tfor i in range(actual.shape[1]):\n",
        "\t\t# calculate mse\n",
        "\t\tmse = mean_squared_error(actual[:, i], predicted[:, i])\n",
        "\t\t# calculate rmse\n",
        "\t\trmse = sqrt(mse)\n",
        "\t\t# store\n",
        "\t\tscores.append(rmse)\n",
        "\t# calculate overall RMSE\n",
        "\ts = 0\n",
        "\tfor row in range(actual.shape[0]):\n",
        "\t\tfor col in range(actual.shape[1]):\n",
        "\t\t\ts += (actual[row, col] - predicted[row, col])**2\n",
        "\tscore = sqrt(s / (actual.shape[0] * actual.shape[1]))\n",
        "\treturn score, scores"
      ],
      "metadata": {
        "id": "Sa0jYmKNc3q9"
      },
      "execution_count": 7,
      "outputs": []
    },
    {
      "cell_type": "code",
      "source": [
        "# convert windows of hourly multivariate data into a series of total power\n",
        "def to_series(data):\n",
        "\t# extract just the total power from each hour\n",
        "\tseries = [hour[:, 0] for hour in data]\n",
        "\t# flatten into a single series\n",
        "\tseries = array(series).flatten()\n",
        "\treturn series\n",
        "\n",
        "# convert history into inputs and outputs\n",
        "def to_supervised(history, n_input):\n",
        "\t# convert history to a univariate series\n",
        "\tdata = to_series(history)\n",
        "\tX, y = list(), list()\n",
        "\tix_start = 0\n",
        "\t# step over the entire history one time step at a time\n",
        "\tfor i in range(len(data)):\n",
        "\t\t# define the end of the input sequence\n",
        "\t\tix_end = ix_start + n_input\n",
        "\t\t# ensure we have enough data for this instance\n",
        "\t\tif ix_end < len(data):\n",
        "\t\t\tX.append(data[ix_start:ix_end])\n",
        "\t\t\ty.append(data[ix_end])\n",
        "\t\t# move along one time step\n",
        "\t\tix_start += 1\n",
        "\treturn array(X), array(y)"
      ],
      "metadata": {
        "id": "FEg5CLuHdEV8"
      },
      "execution_count": 9,
      "outputs": []
    }
  ]
}